{
  "nbformat": 4,
  "nbformat_minor": 0,
  "metadata": {
    "colab": {
      "provenance": []
    },
    "kernelspec": {
      "name": "python3",
      "display_name": "Python 3"
    },
    "language_info": {
      "name": "python"
    }
  },
  "cells": [
    {
      "cell_type": "code",
      "source": [
        "import random as r"
      ],
      "metadata": {
        "id": "FpGe78IFKWkX"
      },
      "execution_count": 260,
      "outputs": []
    },
    {
      "cell_type": "code",
      "source": [
        "mat = [[\" \",\"|\",\" \",\"|\",\" \"],\n",
        "       [\"-\",\"-\",\"-\",\"-\",\"-\"],\n",
        "       [\" \",\"|\",\" \",\"|\",\" \"],\n",
        "       [\"_\",\"_\",\"_\",\"_\",\"_\"],\n",
        "       [\" \",\"|\",\" \",\"|\",\" \"],\n",
        "       ]"
      ],
      "metadata": {
        "id": "qkuzgxN6KZuF"
      },
      "execution_count": 261,
      "outputs": []
    },
    {
      "cell_type": "code",
      "source": [
        "matSize = 0"
      ],
      "metadata": {
        "id": "0xu7NdiADXCm"
      },
      "execution_count": 262,
      "outputs": []
    },
    {
      "cell_type": "code",
      "source": [
        "def startMat():\n",
        "  global mat\n",
        "  mat = [[\" \",\"|\",\" \",\"|\",\" \"],\n",
        "       [\"-\",\"-\",\"-\",\"-\",\"-\"],\n",
        "       [\" \",\"|\",\" \",\"|\",\" \"],\n",
        "       [\"_\",\"_\",\"_\",\"_\",\"_\"],\n",
        "       [\" \",\"|\",\" \",\"|\",\" \"],\n",
        "       ]"
      ],
      "metadata": {
        "id": "MaXLXM6RB6y-"
      },
      "execution_count": 277,
      "outputs": []
    },
    {
      "cell_type": "code",
      "source": [
        "arr = [0,2,4] # used as a map"
      ],
      "metadata": {
        "id": "dbYUbO42Nths"
      },
      "execution_count": 264,
      "outputs": []
    },
    {
      "cell_type": "code",
      "source": [
        "def Display(mat):\n",
        "  print()\n",
        "  for i in range(0,5):\n",
        "    for j in range(0,5):\n",
        "      print(mat[i][j],end=\" \")\n",
        "    print()\n",
        "  print()"
      ],
      "metadata": {
        "id": "613G4G6gKjpj"
      },
      "execution_count": 265,
      "outputs": []
    },
    {
      "cell_type": "code",
      "source": [
        "def computer(matrix):\n",
        "  global matSize\n",
        "  while(1):\n",
        "    a = r.choice(arr)\n",
        "    b = r.choice(arr)\n",
        "    if(matrix[a][b] == \" \"):\n",
        "      matrix[a][b] = \"X\"\n",
        "      matSize = matSize + 1\n",
        "      break"
      ],
      "metadata": {
        "id": "9AHflJ0RK0O5"
      },
      "execution_count": 274,
      "outputs": []
    },
    {
      "cell_type": "code",
      "source": [
        "def user(matrix):\n",
        "  global matSize\n",
        "  print(\"Enter Position : \")\n",
        "  int1 = int(input())\n",
        "  int2 = int(input())\n",
        "  int1 = arr[int1]\n",
        "  int2 = arr[int2]\n",
        "  if(matrix[int1][int2] == \" \"):\n",
        "    matrix[int1][int2] = \"0\"\n",
        "    matSize = matSize + 1\n",
        "  else:\n",
        "    print(\"Dekh Ke Khel bhai...., Try again\")\n",
        "    user(matrix)\n"
      ],
      "metadata": {
        "id": "gg7bcqIIPQ8R"
      },
      "execution_count": 275,
      "outputs": []
    },
    {
      "cell_type": "code",
      "source": [
        "def validateStateRow(mat):\n",
        "  # checking all the rows\n",
        "  flag = True\n",
        "\n",
        "  for i in arr:\n",
        "    prev = mat[i][0]\n",
        "    kyaPooraChala = 1\n",
        "    for j in arr:\n",
        "      if(prev != mat[i][j]):\n",
        "        #check for next row\n",
        "        kyaPooraChala = False\n",
        "        break\n",
        "\n",
        "    #agar ye loop poora chal gaya means ye row m sab same hai\n",
        "    if(kyaPooraChala):\n",
        "      flag = prev\n",
        "      break\n",
        "\n",
        "  if(flag == \"0\"):\n",
        "    print(\"User Won\")\n",
        "    return True\n",
        "  elif (flag == \"X\"):\n",
        "    print(\"Computer Won , you looser\")\n",
        "    return True\n",
        "  else:\n",
        "    return False\n"
      ],
      "metadata": {
        "id": "belhCze1P6Kg"
      },
      "execution_count": 268,
      "outputs": []
    },
    {
      "cell_type": "code",
      "source": [
        "def validateStateColumn(mat):\n",
        "  # checking all the rows\n",
        "  flag = True\n",
        "\n",
        "  for i in arr:\n",
        "    prev = mat[0][i]\n",
        "    kyaPooraChala = 1\n",
        "    for j in arr:\n",
        "      if(prev != mat[j][i]):\n",
        "        #check for next row\n",
        "        kyaPooraChala = False\n",
        "        break\n",
        "\n",
        "    #agar ye loop poora chal gaya means ye row m sab same hai\n",
        "    if(kyaPooraChala):\n",
        "      flag = prev\n",
        "      break\n",
        "\n",
        "  if(flag == \"0\"):\n",
        "    print(\"User Won\")\n",
        "    return True\n",
        "  elif (flag == \"X\"):\n",
        "    print(\"Computer Won , you looser\")\n",
        "    return True\n",
        "  else:\n",
        "    return False"
      ],
      "metadata": {
        "id": "ZixO55ZYUl7G"
      },
      "execution_count": 269,
      "outputs": []
    },
    {
      "cell_type": "code",
      "source": [
        "def validateStateDiagonal(mat):\n",
        "  flag = \"empty\"\n",
        "  prev = mat[0][0]\n",
        "  if(prev == mat[2][2] and prev == mat[4][4]):\n",
        "    flag = prev\n",
        "\n",
        "  prev = mat[0][4]\n",
        "  if(prev == mat[2][2] and prev == mat[4][0]):\n",
        "    flag = prev\n",
        "\n",
        "  if(flag == \"0\"):\n",
        "    print(\"User Won\")\n",
        "    return True\n",
        "  elif (flag == \"X\"):\n",
        "    print(\"Computer Won , you looser\")\n",
        "    return True\n",
        "  else:\n",
        "    return False\n"
      ],
      "metadata": {
        "id": "Q5QrP28MXxPt"
      },
      "execution_count": 270,
      "outputs": []
    },
    {
      "cell_type": "code",
      "source": [
        "def validate(mat):\n",
        "  if(validateStateRow(mat)):\n",
        "    return True\n",
        "  elif(validateStateColumn(mat)):\n",
        "    return True\n",
        "  elif(validateStateDiagonal(mat)):\n",
        "    return True\n",
        "  return False"
      ],
      "metadata": {
        "id": "3KmfPP_IYix_"
      },
      "execution_count": 271,
      "outputs": []
    },
    {
      "cell_type": "code",
      "source": [
        "import time\n",
        "def play():\n",
        "  print(\"Enter any key to start the game\")\n",
        "  a = (input())\n",
        "\n",
        "  startMat()\n",
        "\n",
        "  #game loop\n",
        "  while(not validate(mat)):\n",
        "\n",
        "    if(matSize == 10):\n",
        "      print(\"TIEEE : No Possible Moves \")\n",
        "      break\n",
        "\n",
        "    user(mat)\n",
        "    print(\"You Played : \")\n",
        "    Display(mat)\n",
        "    print()\n",
        "    if(validate(mat)):\n",
        "      break\n",
        "\n",
        "    time.sleep(0.5)\n",
        "\n",
        "    computer(mat)\n",
        "    print(\"Computer Played\")\n",
        "    Display(mat)\n",
        "    print()\n"
      ],
      "metadata": {
        "id": "DEyd7Jg7cH0v"
      },
      "execution_count": 279,
      "outputs": []
    },
    {
      "cell_type": "code",
      "source": [
        "play()"
      ],
      "metadata": {
        "colab": {
          "base_uri": "https://localhost:8080/"
        },
        "id": "j3HqStxzcJgW",
        "outputId": "d643cbe6-4985-469c-f9ed-4894d968ed8a"
      },
      "execution_count": 280,
      "outputs": [
        {
          "output_type": "stream",
          "name": "stdout",
          "text": [
            "Enter any key to start the game\n",
            "\n",
            "Enter Position : \n",
            "0\n",
            "0\n",
            "You Played : \n",
            "\n",
            "0 |   |   \n",
            "- - - - - \n",
            "  |   |   \n",
            "_ _ _ _ _ \n",
            "  |   |   \n",
            "\n",
            "\n",
            "Computer Played\n",
            "\n",
            "0 |   |   \n",
            "- - - - - \n",
            "  |   |   \n",
            "_ _ _ _ _ \n",
            "  | X |   \n",
            "\n",
            "\n",
            "Enter Position : \n",
            "2\n",
            "2\n",
            "You Played : \n",
            "\n",
            "0 |   |   \n",
            "- - - - - \n",
            "  |   |   \n",
            "_ _ _ _ _ \n",
            "  | X | 0 \n",
            "\n",
            "\n",
            "Computer Played\n",
            "\n",
            "0 |   |   \n",
            "- - - - - \n",
            "  |   | X \n",
            "_ _ _ _ _ \n",
            "  | X | 0 \n",
            "\n",
            "\n",
            "Enter Position : \n",
            "2\n",
            "0\n",
            "You Played : \n",
            "\n",
            "0 |   |   \n",
            "- - - - - \n",
            "  |   | X \n",
            "_ _ _ _ _ \n",
            "0 | X | 0 \n",
            "\n",
            "\n",
            "Computer Played\n",
            "\n",
            "0 |   | X \n",
            "- - - - - \n",
            "  |   | X \n",
            "_ _ _ _ _ \n",
            "0 | X | 0 \n",
            "\n",
            "\n",
            "Enter Position : \n",
            "1\n",
            "0\n",
            "You Played : \n",
            "\n",
            "0 |   | X \n",
            "- - - - - \n",
            "0 |   | X \n",
            "_ _ _ _ _ \n",
            "0 | X | 0 \n",
            "\n",
            "\n",
            "User Won\n"
          ]
        }
      ]
    }
  ]
}